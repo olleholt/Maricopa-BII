{
 "cells": [
  {
   "cell_type": "markdown",
   "id": "fdee41b1-81cb-486f-a089-b2c9895cdd88",
   "metadata": {},
   "source": [
    "**Option 2:**\n",
    "\n",
    "Biodiversity Intactness Index change in Phoenix subdivision\n",
    "Context\n",
    "In 2021, Maricopa County, which encompasses the Phoenix metropolitan area, was the US county that added the most developed land since 2001 [1]. Urban sprawl creates pressure on biodiversity and natural areas. In this task you will explore a dataset showing values for a biodiversity intactness index (BII) [2, 3] to find changes in this BII around the Phoenix area from 2017 to 2020.\n",
    "\n",
    "SETUP \n",
    "\n",
    "First, read all the instructions. Choose an adequate, informative title for a new repository containing the notebook for this task (not EDS220-final-project). \n",
    "Create a new GitHub repository and clone it into the Microsoft Planetary Computer. \n",
    "\n",
    "\n",
    "1. Data access:\n",
    "BII data: This dataset is part of the MPC STAC catalog. You will need to access the ‘io-biodiversity’ collection and look for the 2017 and 2020 rasters covering Phoenix subdivision. You can use the following coordinates for a bounding box: \n",
    "[-112.826843, 32.974108, -111.184387, 33.863574]\n",
    "Phoenix subdivision: You will find the Phoenix subdivision polygon in the Census County Subdivision shapefiles for Arizona: https://www.census.gov/cgi-bin/geo/shapefiles/index.php?year=2022&layergroup=County+Subdivisions\n",
    "\n",
    "2. Create a map showing the Phoenix subdivision within an appropriate geographical context. You may use any vector datasets to create your map. (You can also check out the contextily package.)\n",
    "\n",
    "3. Calculate the percentage of area of the Phoenix subdivision with a BII of at least 0.75 in 2017. Obtain the same calculation for 2020.\n",
    "HINTS (useful or not depending on your workflow): \n",
    "Let x be an xarray.DataArray. We can select all the values greater than n by simply doing x>n. This will return an xarray.DataArray with boolean values. You can then transform this into an xarray.DataArray with 0s and 1s (instead of True/False) by casting it as type ‘int’. \n",
    "To calculate the percentage area: (pixels in class)/(total pixels) * 100. \n",
    "\n",
    "4. Create a visualization showing the area with BII>=0.75 in 2017 that was lost by 2020. Here’s an example:\n"
   ]
  },
  {
   "cell_type": "code",
   "execution_count": 1,
   "id": "0dba752b-8e05-40dd-a6b2-715bf0a91db6",
   "metadata": {
    "tags": []
   },
   "outputs": [],
   "source": [
    "import numpy as np\n",
    "import geopandas as gpd\n",
    "import rioxarray as rioxr\n",
    "import matplotlib.pyplot as plt\n",
    "\n",
    "from shapely.geometry import Polygon\n",
    "\n",
    "# used to access STAC catalogs\n",
    "from pystac_client import Client\n",
    "# used to sign items from the MPC STAC catalog\n",
    "import planetary_computer\n",
    "\n",
    "# ----- other libraries for nice ouputs\n",
    "from IPython.display import Image\n",
    "\n",
    "#bbox = bbox\n"
   ]
  },
  {
   "cell_type": "code",
   "execution_count": 2,
   "id": "9e784254-93fa-407e-acc6-72bb8db2e03d",
   "metadata": {
    "tags": []
   },
   "outputs": [],
   "source": [
    "# access catalog\n",
    "catalog = Client.open(\n",
    "    \"https://planetarycomputer.microsoft.com/api/stac/v1\",\n",
    "    modifier=planetary_computer.sign_inplace,\n",
    ")"
   ]
  },
  {
   "cell_type": "code",
   "execution_count": 3,
   "id": "d5680004-22fb-431c-8d5f-92a55fb0291e",
   "metadata": {
    "tags": []
   },
   "outputs": [
    {
     "name": "stdout",
     "output_type": "stream",
     "text": [
      "Number of collections: 122\n",
      "Collections IDs (first 10):\n",
      "- daymet-annual-pr\n",
      "- daymet-daily-hi\n",
      "- 3dep-seamless\n",
      "- 3dep-lidar-dsm\n",
      "- fia\n",
      "- sentinel-1-rtc\n",
      "- gridmet\n",
      "- daymet-annual-na\n",
      "- daymet-monthly-na\n",
      "- daymet-annual-hi\n"
     ]
    }
   ],
   "source": [
    "# get collections and print their names\n",
    "collections = list(catalog.get_collections())\n",
    "\n",
    "print('Number of collections:', len(collections))\n",
    "\n",
    "print(\"Collections IDs (first 10):\")\n",
    "for i in range(10):\n",
    "    print('-', collections[i].id)"
   ]
  },
  {
   "cell_type": "code",
   "execution_count": 5,
   "id": "645df417-1efc-46ce-be37-8ed05070fb84",
   "metadata": {
    "tags": []
   },
   "outputs": [],
   "source": [
    "io_bio_collection = catalog.get_child('io_biodiversity')\n",
    "io_bio_collection"
   ]
  },
  {
   "cell_type": "code",
   "execution_count": null,
   "id": "ce5e42af-6bed-4b1b-9ff7-0601181fad27",
   "metadata": {},
   "outputs": [],
   "source": [
    "# Temporal range of interest\n",
    "time_range = \"2017-01-01/2020-01-01\"\n",
    "\n",
    "# NCEAS bounding box (as a GeoJSON)\n",
    "bbox = {\n",
    "    \"type\": \"Polygon\",\n",
    "    \"coordinates\":[\n",
    "        [\n",
    "            [-119.70608227128903, 34.426300194372274],\n",
    "            [-119.70608227128903, 34.42041139020533],\n",
    "            [-119.6967885126002, 34.42041139020533],\n",
    "            [-119.6967885126002, 34.426300194372274],\n",
    "            [-119.70608227128903, 34.426300194372274]\n",
    "        ]\n",
    "    ],\n",
    "}\n",
    "\n",
    "# catalog search\n",
    "search = catalog.search(\n",
    "    collections = ['naip'],\n",
    "    intersects = bbox,\n",
    "    datetime = time_range)\n",
    "search\n",
    "\n",
    "[-112.826843, 32.974108, -111.184387, 33.863574]\n",
    "\n"
   ]
  },
  {
   "cell_type": "code",
   "execution_count": null,
   "id": "1f4e3f37-a347-4eed-aa78-816d0e84cbf9",
   "metadata": {},
   "outputs": [],
   "source": []
  },
  {
   "cell_type": "code",
   "execution_count": null,
   "id": "e3a342f7-68d4-49fa-9c3a-5dcda3598f11",
   "metadata": {},
   "outputs": [],
   "source": []
  },
  {
   "cell_type": "code",
   "execution_count": null,
   "id": "b0489cf3-7485-4366-b4b7-2c81b64bb9d7",
   "metadata": {},
   "outputs": [],
   "source": []
  },
  {
   "cell_type": "code",
   "execution_count": null,
   "id": "57ae8e09-0a04-48c6-990c-8bd90fafa1fc",
   "metadata": {},
   "outputs": [],
   "source": []
  },
  {
   "cell_type": "code",
   "execution_count": null,
   "id": "af87f62e-823b-4473-a68a-388c64bbe187",
   "metadata": {},
   "outputs": [],
   "source": []
  },
  {
   "cell_type": "code",
   "execution_count": null,
   "id": "cbc7f38c-f52c-42d9-bf4d-63adaebba18f",
   "metadata": {},
   "outputs": [],
   "source": []
  },
  {
   "cell_type": "code",
   "execution_count": null,
   "id": "476928af-7311-40a4-9078-b8c7b29bed39",
   "metadata": {},
   "outputs": [],
   "source": []
  },
  {
   "cell_type": "code",
   "execution_count": null,
   "id": "3a20b94f-a6a8-42b7-8eee-6e59149bef02",
   "metadata": {},
   "outputs": [],
   "source": []
  },
  {
   "cell_type": "code",
   "execution_count": null,
   "id": "fe795422-311e-47f8-b62a-7a00fe1e2ad7",
   "metadata": {},
   "outputs": [],
   "source": []
  },
  {
   "cell_type": "code",
   "execution_count": null,
   "id": "292b210f-37c3-4990-9123-3674aed4a61c",
   "metadata": {},
   "outputs": [],
   "source": []
  }
 ],
 "metadata": {
  "kernelspec": {
   "display_name": "Python 3 (ipykernel)",
   "language": "python",
   "name": "python3"
  },
  "language_info": {
   "codemirror_mode": {
    "name": "ipython",
    "version": 3
   },
   "file_extension": ".py",
   "mimetype": "text/x-python",
   "name": "python",
   "nbconvert_exporter": "python",
   "pygments_lexer": "ipython3",
   "version": "3.11.4"
  }
 },
 "nbformat": 4,
 "nbformat_minor": 5
}
